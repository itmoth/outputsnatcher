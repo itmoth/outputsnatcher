{
 "cells": [
  {
   "cell_type": "code",
   "execution_count": 17,
   "metadata": {
    "id": "_uDEXIbEk0rg"
   },
   "outputs": [],
   "source": [
    "import os"
   ]
  },
  {
   "cell_type": "code",
   "execution_count": null,
   "metadata": {
    "id": "z3UgMUHRk0rh"
   },
   "outputs": [],
   "source": [
    "## Import the file and read it\n",
    "\n",
    "reactant_file = os.path.join('INSERTREACTANTFILENAMEGRAHHHHHHHout') ## replace the join function's argument with your output file name\n",
    "with open(reactant_file, \"r\") as reactantfile:\n",
    "    reactant = reactantfile.readlines()\n",
    "\n",
    "ts_file = os.path.join('INSERTTRANSITIONSTATEFILENAMEGRAHHHHHHHout.out') ## replace the join function's argument with your output file name\n",
    "with open(ts_file, \"r\") as tsfile:\n",
    "    ts = tsfile.readlines()\n",
    "\n",
    "product_file = os.path.join('INSERTPRODUCTFILENAMEGRAHHHHHHHout.out') ## replace the join function's argument with your output file name\n",
    "with open(product_file, \"r\") as productfile:\n",
    "    product = productfile.readlines()\n"
   ]
  },
  {
   "cell_type": "code",
   "execution_count": 19,
   "metadata": {
    "id": "QSuRFHVJk0rh",
    "outputId": "ae45e5c6-fd63-46c5-d1f6-2ea28cc2ed9a"
   },
   "outputs": [
    {
     "name": "stdout",
     "output_type": "stream",
     "text": [
      "The ZPE of the reactant is -1512390.7988270002 kJ/mol\n",
      "The ZPE of the transition state is -1512324.515454 kJ/mol\n",
      "The ZPE of the product is -1512424.5601315 kJ/mol\n"
     ]
    }
   ],
   "source": [
    "## FINDING THE ZPE of the REACTANT\n",
    "zpeReactant = 0.0\n",
    "for line_number, line in enumerate(reactant, start = 1):\n",
    "    if 'Sum of electronic and zero-point Energies' in line:\n",
    "        zpe = line.split()\n",
    "        lengthofline = len(zpe)\n",
    "        zpeHartree = zpe[lengthofline-1]\n",
    "        zpeReactant = float(zpeHartree)\n",
    "\n",
    "## For the unit you want, uncomment the line :P\n",
    "\n",
    "# ZPE in eV\n",
    "# print('The ZPE is', str((float(zpeHartree) * 27.211386246)), 'eV')\n",
    "\n",
    "#ZPE in kJ/mol\n",
    "print('The ZPE of the reactant is', str((float(zpeHartree) * 2625.5)), 'kJ/mol')\n",
    "\n",
    "\n",
    "## FINDING THE ZPE of the TRANSITION STATE\n",
    "zpeTs = 0.0\n",
    "for line_number, line in enumerate(ts, start = 1):\n",
    "    if 'Sum of electronic and zero-point Energies' in line:\n",
    "        zpe = line.split()\n",
    "        lengthofline = len(zpe)\n",
    "        zpeHartree = zpe[lengthofline-1]\n",
    "        zpeTs = float(zpeHartree)\n",
    "\n",
    "## For the unit you want, uncomment the line :P\n",
    "\n",
    "# ZPE in eV\n",
    "# print('The ZPE is', str((float(zpeHartree) * 27.211386246)), 'eV')\n",
    "\n",
    "#ZPE in kJ/mol\n",
    "print('The ZPE of the transition state is', str((float(zpeHartree) * 2625.5)), 'kJ/mol')\n",
    "\n",
    "\n",
    "## FINDING THE ZPE of the PRODUCT\n",
    "zpeProd = 0.0\n",
    "for line_number, line in enumerate(product, start = 1):\n",
    "    if 'Sum of electronic and zero-point Energies' in line:\n",
    "        zpe = line.split()\n",
    "        lengthofline = len(zpe)\n",
    "        zpeHartree = zpe[lengthofline-1]\n",
    "        zpeProd = float(zpeHartree)\n",
    "\n",
    "## For the unit you want, uncomment the line :P\n",
    "\n",
    "# ZPE in eV\n",
    "# print('The ZPE is', str((float(zpeHartree) * 27.211386246)), 'eV')\n",
    "\n",
    "#ZPE in kJ/mol\n",
    "print('The ZPE of the product is', str((float(zpeHartree) * 2625.5)), 'kJ/mol')"
   ]
  },
  {
   "cell_type": "code",
   "execution_count": 20,
   "metadata": {
    "id": "zxAYtS1Uk0ri",
    "outputId": "bed03f97-7d0e-461a-a083-00173425d7a6"
   },
   "outputs": [
    {
     "name": "stdout",
     "output_type": "stream",
     "text": [
      "The energy barrier is 66.28337300010054 kJ/mol\n"
     ]
    }
   ],
   "source": [
    "## ENERGY BARRIER\n",
    "\n",
    "energyBarrier = zpeTs - zpeReactant\n",
    "\n",
    "## For the unit you want, uncomment and run the cell !\n",
    "\n",
    "# Barrier in Hartree\n",
    "# print('The energy barrier is', str(energyBarrier), 'Hartree')\n",
    "\n",
    "# Barrier in kJ/mol\n",
    "print('The energy barrier is', str(energyBarrier * 2625.5), 'kJ/mol')\n",
    "\n",
    "# Barrier in eV\n",
    "# print('The energy barrier is', str(energyBarrier * 27.211386246), 'eV')\n",
    "\n"
   ]
  },
  {
   "cell_type": "code",
   "execution_count": 21,
   "metadata": {
    "id": "3mY-NmxJk0rj",
    "outputId": "e905e16c-fecd-42a9-ccb7-2d0709d4871b"
   },
   "outputs": [
    {
     "name": "stdout",
     "output_type": "stream",
     "text": [
      "Reactant: 33.761304499829066 \n",
      " TS: 100.0446774999296 \n",
      " Prod: 0\n"
     ]
    }
   ],
   "source": [
    "## This is all for getting their relative energies.\n",
    "## Thus, it is necessary to split it into cases: when ZPE of the product is less than or greater than the reactant\n",
    "\n",
    "# deltaHartree = zpeProd-zpeReactant\n",
    "deltaKJmol = (zpeProd-zpeReactant) * 2625.5\n",
    "\n",
    "if(zpeReactant < zpeProd):\n",
    "    # energyBarrierHartree = energyBarrier\n",
    "    energyBarrierKJmol = energyBarrier * 2625.5\n",
    "    print('Reactant: 0', \"\\n\", 'TS:',  energyBarrierKJmol, \"\\n\", 'Prod:', abs(deltaKJmol))\n",
    "    # change what unit you want accordingly. You need to change both the comment and print statement\n",
    "\n",
    "\n",
    "if(zpeReactant > zpeProd):\n",
    "    # energyBarrierHartree = energyBarrier\n",
    "    energyBarrierKJmol = energyBarrier * 2625.5\n",
    "    print('Reactant:', abs(deltaKJmol), \"\\n\", 'TS:', str(energyBarrierKJmol+abs(deltaKJmol)), \"\\n\", 'Prod: 0')\n",
    "    # change what unit you want accordingly. You need to change both the comment and print statement\n"
   ]
  },
  {
   "cell_type": "code",
   "execution_count": 22,
   "metadata": {
    "id": "5np4yc4Zk0rj",
    "outputId": "6fee404b-84dc-4bb8-babf-ed6b32c91a82"
   },
   "outputs": [
    {
     "name": "stdout",
     "output_type": "stream",
     "text": [
      "reactant ['1.29269', '0.79663', '0.72426']\n",
      "ts ['1.36809', '0.85290', '0.78578']\n",
      "prod ['1.39774', '0.87524', '0.79068']\n"
     ]
    }
   ],
   "source": [
    "# FINDING ROTATIONAL CONSTANTS.\n",
    "\n",
    "# Counting amount of times rotational constants are calculated\n",
    "reactantRotationalConstants = []\n",
    "\n",
    "reacRotCount = 0\n",
    "for line_number, line in enumerate(reactant, start = 1):\n",
    "    if 'Rotational constants (GHZ)' in line:\n",
    "        reacRotCount += 1\n",
    "\n",
    "reacRotCountTwo = 0\n",
    "for line_number, line in enumerate(reactant, start = 1):\n",
    "    if 'Rotational constants' in line:\n",
    "        reacRotCountTwo += 1\n",
    "        if(reacRotCount == reacRotCountTwo):\n",
    "            reacRotConstsLine = line.split()\n",
    "\n",
    "            for x, y in enumerate(reacRotConstsLine, start = 1):\n",
    "                if x > 3:\n",
    "                    reactantRotationalConstants.append(y)\n",
    "\n",
    "print('reactant', reactantRotationalConstants)\n",
    "\n",
    "\n",
    "\n",
    "tsRotationalConstants = []\n",
    "\n",
    "tsRotCount = 0\n",
    "for line_number, line in enumerate(ts, start = 1):\n",
    "    if 'Rotational constants (GHZ)' in line:\n",
    "        tsRotCount += 1\n",
    "\n",
    "tsRotCountTwo = 0\n",
    "for line_number, line in enumerate(ts, start = 1):\n",
    "    if 'Rotational constants' in line:\n",
    "        tsRotCountTwo += 1\n",
    "        if(tsRotCount == tsRotCountTwo):\n",
    "            tsRotConstsLine = line.split()\n",
    "\n",
    "            for x, y in enumerate(tsRotConstsLine, start = 1):\n",
    "                if x > 3:\n",
    "                    tsRotationalConstants.append(y)\n",
    "\n",
    "print('ts', tsRotationalConstants)\n",
    "\n",
    "\n",
    "\n",
    "prodRotationalConstants = []\n",
    "\n",
    "prodRotCount = 0\n",
    "for line_number, line in enumerate(product, start = 1):\n",
    "    if 'Rotational constants (GHZ)' in line:\n",
    "        prodRotCount += 1\n",
    "\n",
    "prodRotCountTwo = 0\n",
    "for line_number, line in enumerate(product, start = 1):\n",
    "    if 'Rotational constants' in line:\n",
    "        prodRotCountTwo += 1\n",
    "        if(prodRotCount == prodRotCountTwo):\n",
    "            prodRotConstsLine = line.split()\n",
    "\n",
    "            for x, y in enumerate(prodRotConstsLine, start = 1):\n",
    "                if x > 3:\n",
    "                    prodRotationalConstants.append(y)\n",
    "\n",
    "print('prod', prodRotationalConstants)\n",
    "\n",
    "\n",
    "## To do: Converting to wavenumbers "
   ]
  },
  {
   "cell_type": "code",
   "execution_count": 23,
   "metadata": {
    "id": "mr0GH1VTk0rk",
    "outputId": "c38eb522-851d-4973-ddb3-a1c6e80fa037"
   },
   "outputs": [
    {
     "name": "stdout",
     "output_type": "stream",
     "text": [
      "reactant 58.0385 96.1381 115.3198 156.4625 209.4928 226.8317 237.9651 257.6470 291.8219 310.0728 318.0189 319.7059 346.9811 373.9606 378.8749 439.7979 485.5996 512.8223 552.1285 613.4786 666.7442 704.4710 738.3369 839.6220 852.7811 877.0405 888.0142 968.2179 1011.3262 1046.2256 1063.0005 1075.8666 1080.9010 1096.2213 1122.3022 1146.0919 1207.1789 1242.0306 1256.2453 1294.0611 1306.7822 1326.2266 1387.1833 1411.2218 1414.7752 1416.1088 1419.9337 1430.4792 1478.9607 1487.2584 1488.2151 1494.7488 1495.9366 1508.2376 1695.1843 1758.6680 3047.0564 3052.0875 3069.3478 3086.4683 3105.0676 3111.9385 3139.7202 3142.8646 3145.9594 3166.0350 3171.5592 3178.2576 3879.7345 \n",
      "reactant 58.0385 96.1381 115.3198 156.4625 209.4928 226.8317 237.9651 257.6470 291.8219 310.0728 318.0189 319.7059 346.9811 373.9606 378.8749 439.7979 485.5996 512.8223 552.1285 613.4786 666.7442 704.4710 738.3369 839.6220 852.7811 877.0405 888.0142 968.2179 1011.3262 1046.2256 1063.0005 1075.8666 1080.9010 1096.2213 1122.3022 1146.0919 1207.1789 1242.0306 1256.2453 1294.0611 1306.7822 1326.2266 1387.1833 1411.2218 1414.7752 1416.1088 1419.9337 1430.4792 1478.9607 1487.2584 1488.2151 1494.7488 1495.9366 1508.2376 1695.1843 1758.6680 3047.0564 3052.0875 3069.3478 3086.4683 3105.0676 3111.9385 3139.7202 3142.8646 3145.9594 3166.0350 3171.5592 3178.2576 3879.7345 \n",
      "prod 67.4760 112.1261 136.6311 181.6769 201.9162 210.5994 224.0572 243.4692 297.6566 304.5649 321.5151 356.2787 393.7183 415.5443 486.7801 496.7133 539.8377 588.9053 614.6714 663.0318 716.3708 743.3768 797.7024 862.0079 889.8713 940.9445 954.5355 979.3208 1002.0192 1019.3355 1033.2659 1060.6846 1069.5083 1116.0525 1159.2486 1174.0670 1190.8380 1230.4585 1238.7850 1275.6497 1280.6729 1291.2173 1316.8934 1362.8004 1400.3285 1411.1906 1412.4504 1419.4751 1441.0484 1481.1637 1486.9609 1494.1101 1499.9113 1501.8952 1506.3686 1550.3889 3021.1277 3055.9860 3061.0836 3070.2976 3115.0316 3121.1011 3128.0302 3134.0718 3145.4367 3148.2145 3153.3501 3191.4010 3852.4197 \n"
     ]
    }
   ],
   "source": [
    "## FREQUENCIES\n",
    "\n",
    "reacFrequenciesString = 'reactant '\n",
    "numberOfReacFrequencies = 0\n",
    "\n",
    "for line_number, line in enumerate(reactant, start = 1):\n",
    "    if 'Frequencies' in line:\n",
    "        currentLine = line.split()\n",
    "\n",
    "        for x, y in enumerate(currentLine, start = 1):\n",
    "            if(x > 2):\n",
    "                numberOfReacFrequencies += 1\n",
    "                reacFrequenciesString += y + \" \"\n",
    "\n",
    "print(reacFrequenciesString)\n",
    "\n",
    "\n",
    "\n",
    "tsFrequenciesString = 'ts '\n",
    "numberOfTsFrequencies = 0\n",
    "\n",
    "for line_number, line in enumerate(ts, start = 1):\n",
    "    if 'Frequencies' in line:\n",
    "        currentLine = line.split()\n",
    "\n",
    "        for x, y in enumerate(currentLine, start = 1):\n",
    "            if(x > 2):\n",
    "                numberOfTsFrequencies += 1\n",
    "                tsFrequenciesString += y + \" \"\n",
    "\n",
    "print(reacFrequenciesString)\n",
    "\n",
    "\n",
    "\n",
    "prodFrequenciesString = 'prod '\n",
    "numberOfProdFrequencies = 0\n",
    "\n",
    "for line_number, line in enumerate(product, start = 1):\n",
    "    if 'Frequencies' in line:\n",
    "        currentLine = line.split()\n",
    "\n",
    "        for x, y in enumerate(currentLine, start = 1):\n",
    "            if(x > 2):\n",
    "                numberOfProdFrequencies += 1\n",
    "                prodFrequenciesString += y + \" \"\n",
    "\n",
    "print(prodFrequenciesString)"
   ]
  },
  {
   "cell_type": "code",
   "execution_count": null,
   "metadata": {},
   "outputs": [],
   "source": []
  }
 ],
 "metadata": {
  "colab": {
   "provenance": []
  },
  "kernelspec": {
   "display_name": "base",
   "language": "python",
   "name": "python3"
  },
  "language_info": {
   "codemirror_mode": {
    "name": "ipython",
    "version": 3
   },
   "file_extension": ".py",
   "mimetype": "text/x-python",
   "name": "python",
   "nbconvert_exporter": "python",
   "pygments_lexer": "ipython3",
   "version": "3.12.7"
  }
 },
 "nbformat": 4,
 "nbformat_minor": 0
}
